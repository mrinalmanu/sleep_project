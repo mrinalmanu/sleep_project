{
 "cells": [
  {
   "cell_type": "code",
   "execution_count": 1,
   "metadata": {
    "scrolled": false
   },
   "outputs": [
    {
     "name": "stderr",
     "output_type": "stream",
     "text": [
      "In /home/mrinalmanu/.local/lib/python3.6/site-packages/matplotlib/mpl-data/stylelib/_classic_test.mplstyle: \n",
      "The text.latex.preview rcparam was deprecated in Matplotlib 3.3 and will be removed two minor releases later.\n",
      "In /home/mrinalmanu/.local/lib/python3.6/site-packages/matplotlib/mpl-data/stylelib/_classic_test.mplstyle: \n",
      "The mathtext.fallback_to_cm rcparam was deprecated in Matplotlib 3.3 and will be removed two minor releases later.\n",
      "In /home/mrinalmanu/.local/lib/python3.6/site-packages/matplotlib/mpl-data/stylelib/_classic_test.mplstyle: Support for setting the 'mathtext.fallback_to_cm' rcParam is deprecated since 3.3 and will be removed two minor releases later; use 'mathtext.fallback : 'cm' instead.\n",
      "In /home/mrinalmanu/.local/lib/python3.6/site-packages/matplotlib/mpl-data/stylelib/_classic_test.mplstyle: \n",
      "The validate_bool_maybe_none function was deprecated in Matplotlib 3.3 and will be removed two minor releases later.\n",
      "In /home/mrinalmanu/.local/lib/python3.6/site-packages/matplotlib/mpl-data/stylelib/_classic_test.mplstyle: \n",
      "The savefig.jpeg_quality rcparam was deprecated in Matplotlib 3.3 and will be removed two minor releases later.\n",
      "In /home/mrinalmanu/.local/lib/python3.6/site-packages/matplotlib/mpl-data/stylelib/_classic_test.mplstyle: \n",
      "The keymap.all_axes rcparam was deprecated in Matplotlib 3.3 and will be removed two minor releases later.\n",
      "In /home/mrinalmanu/.local/lib/python3.6/site-packages/matplotlib/mpl-data/stylelib/_classic_test.mplstyle: \n",
      "The animation.avconv_path rcparam was deprecated in Matplotlib 3.3 and will be removed two minor releases later.\n",
      "In /home/mrinalmanu/.local/lib/python3.6/site-packages/matplotlib/mpl-data/stylelib/_classic_test.mplstyle: \n",
      "The animation.avconv_args rcparam was deprecated in Matplotlib 3.3 and will be removed two minor releases later.\n"
     ]
    }
   ],
   "source": [
    "# change the following to %matplotlib notebook for interactive plotting\n",
    "%matplotlib inline\n",
    "\n",
    "import numpy as np\n",
    "import pandas as pd\n",
    "\n",
    "import pims\n",
    "import trackpy as tp\n",
    "import os\n",
    "\n",
    "import matplotlib  as mpl \n",
    "import matplotlib.pyplot as plt \n",
    "\n",
    "# Optionally, tweak styles.\n",
    "mpl.rc('figure',  figsize=(10, 6))\n",
    "mpl.rc('image', cmap='gray')"
   ]
  },
  {
   "cell_type": "code",
   "execution_count": 2,
   "metadata": {},
   "outputs": [],
   "source": [
    "from collections import deque\n",
    "from imutils.video import VideoStream\n",
    "import numpy as np\n",
    "import imutils\n"
   ]
  },
  {
   "cell_type": "code",
   "execution_count": 3,
   "metadata": {},
   "outputs": [],
   "source": [
    "from scipy import ndimage\n",
    "from skimage import morphology, util, filters\n"
   ]
  },
  {
   "cell_type": "code",
   "execution_count": 4,
   "metadata": {},
   "outputs": [],
   "source": [
    "import cv2"
   ]
  },
  {
   "cell_type": "code",
   "execution_count": null,
   "metadata": {},
   "outputs": [],
   "source": []
  },
  {
   "cell_type": "code",
   "execution_count": 5,
   "metadata": {},
   "outputs": [],
   "source": [
    "cap = cv2.VideoCapture(r'mov.mp4')\n",
    "size = (int(cap.get(cv2.CAP_PROP_FRAME_WIDTH)), int(cap.get(cv2.CAP_PROP_FRAME_HEIGHT)))\n",
    "fourcc = cv2.VideoWriter_fourcc(*'DIVX')\n",
    "video = cv2.VideoWriter(r'the_blob.avi', fourcc, 25, size)\n",
    "\n",
    "g = []\n",
    "\n",
    "fps = cap.get(cv2.CAP_PROP_FPS)\n",
    "frame_count = 0\n",
    "\n",
    "while(1):\n",
    "    frame_count+=1\n",
    "    time = float(frame_count)/fps\n",
    "    \n",
    "    ret, frame = cap.read()\n",
    "    if not ret:\n",
    "        break\n",
    "    frame = cv2.convertScaleAbs(frame)\n",
    "    \n",
    "    params = cv2.SimpleBlobDetector_Params()\n",
    "    params.blobColor = 0\n",
    "    params.filterByColor = True\n",
    "    params.minArea = 0\n",
    "    #by area\n",
    "    params.filterByArea = True\n",
    "    params.minArea = 100\n",
    "    \n",
    "\n",
    "    ###############################3333\n",
    "    \n",
    "    # Filter by Circularity\n",
    "    params.filterByCircularity = True\n",
    "    params.minCircularity = 0.2\n",
    "    \n",
    "    params.minThreshold = 50;\n",
    "    params.maxThreshold = 200;\n",
    "    ver = (cv2.__version__).split('.')\n",
    "    if int(ver[0]) < 3:\n",
    "        detector = cv2.SimpleBlobDetector(params)\n",
    "    else:\n",
    "        detector = cv2.SimpleBlobDetector_create(params)\n",
    "        \n",
    "    keypoints = detector.detect(frame)\n",
    "    \n",
    "    pts = cv2.KeyPoint_convert(keypoints)\n",
    "    g.append([pts, time])\n",
    "\n",
    "    \n",
    "    im_with_keypoints = cv2.drawKeypoints(frame, keypoints, np.array([]), (0,0,255), cv2.DRAW_MATCHES_FLAGS_DRAW_RICH_KEYPOINTS)\n",
    "    \n",
    "    \n",
    "    if ret == True:\n",
    "        video.write(im_with_keypoints)\n",
    "        cv2.imshow('frame', im_with_keypoints)\n",
    "    else:\n",
    "        cap.release()\n",
    "        break\n",
    "    k = cv2.waitKey(10) & 0xff\n",
    "    if k == 27:\n",
    "        break\n",
    "        \n",
    "        "
   ]
  },
  {
   "cell_type": "code",
   "execution_count": 235,
   "metadata": {
    "scrolled": true
   },
   "outputs": [],
   "source": [
    "gx = [list(x) for x in g]\n"
   ]
  },
  {
   "cell_type": "code",
   "execution_count": 245,
   "metadata": {
    "scrolled": true
   },
   "outputs": [],
   "source": [
    "gx = pd.DataFrame(g)\n",
    "df = gx\n",
    "df['time'] = df[1].astype(float)\n",
    "dfx = df[0].astype(\"string\").str.split(' ', 1, expand=True)\n",
    "df = df.drop([0], axis = 1)\n",
    "df = df.drop([1], axis = 1)\n",
    "\n",
    "dfx[0] = pd.Series(dfx[0].astype(\"string\").str.replace(r\"[^\\d.]+\",\"\"))\n",
    "dfx[1] = pd.Series(dfx[1].astype(\"string\").str.replace(r\"[^\\d.]+\",\"\"))\n",
    "\n",
    "dfx\n",
    "\n",
    "ndf = pd.concat([df, dfx], axis=1)\n",
    "#ndf = ndf.apply(pd.to_numeric, errors='coerce')\n",
    "ndf.columns = ['time', 'x', 'y']\n",
    "ndf  = ndf.replace('NA',np.nan)\n",
    "ndf = ndf.dropna()"
   ]
  },
  {
   "cell_type": "code",
   "execution_count": 135,
   "metadata": {},
   "outputs": [],
   "source": [
    "#ndf = ndf.reset_index(drop=True, inplace=True)"
   ]
  },
  {
   "cell_type": "code",
   "execution_count": 246,
   "metadata": {},
   "outputs": [
    {
     "data": {
      "text/html": [
       "<div>\n",
       "<style scoped>\n",
       "    .dataframe tbody tr th:only-of-type {\n",
       "        vertical-align: middle;\n",
       "    }\n",
       "\n",
       "    .dataframe tbody tr th {\n",
       "        vertical-align: top;\n",
       "    }\n",
       "\n",
       "    .dataframe thead th {\n",
       "        text-align: right;\n",
       "    }\n",
       "</style>\n",
       "<table border=\"1\" class=\"dataframe\">\n",
       "  <thead>\n",
       "    <tr style=\"text-align: right;\">\n",
       "      <th></th>\n",
       "      <th>time</th>\n",
       "      <th>x</th>\n",
       "      <th>y</th>\n",
       "    </tr>\n",
       "  </thead>\n",
       "  <tbody>\n",
       "    <tr>\n",
       "      <th>0</th>\n",
       "      <td>0.033525</td>\n",
       "      <td>374.52914</td>\n",
       "      <td>173.87468</td>\n",
       "    </tr>\n",
       "    <tr>\n",
       "      <th>1</th>\n",
       "      <td>0.067049</td>\n",
       "      <td>374.52386</td>\n",
       "      <td>173.75543</td>\n",
       "    </tr>\n",
       "    <tr>\n",
       "      <th>2</th>\n",
       "      <td>0.100574</td>\n",
       "      <td>374.5077</td>\n",
       "      <td>173.41017</td>\n",
       "    </tr>\n",
       "    <tr>\n",
       "      <th>3</th>\n",
       "      <td>0.134098</td>\n",
       "      <td>374.5167</td>\n",
       "      <td>173.39484</td>\n",
       "    </tr>\n",
       "    <tr>\n",
       "      <th>4</th>\n",
       "      <td>0.167623</td>\n",
       "      <td>374.5006</td>\n",
       "      <td>173.4291</td>\n",
       "    </tr>\n",
       "    <tr>\n",
       "      <th>...</th>\n",
       "      <td>...</td>\n",
       "      <td>...</td>\n",
       "      <td>...</td>\n",
       "    </tr>\n",
       "    <tr>\n",
       "      <th>777</th>\n",
       "      <td>26.082069</td>\n",
       "      <td>369.73523</td>\n",
       "      <td>180.27576</td>\n",
       "    </tr>\n",
       "    <tr>\n",
       "      <th>778</th>\n",
       "      <td>26.115593</td>\n",
       "      <td>369.7756</td>\n",
       "      <td>180.25716</td>\n",
       "    </tr>\n",
       "    <tr>\n",
       "      <th>779</th>\n",
       "      <td>26.149118</td>\n",
       "      <td>369.75735</td>\n",
       "      <td>180.20224</td>\n",
       "    </tr>\n",
       "    <tr>\n",
       "      <th>780</th>\n",
       "      <td>26.182642</td>\n",
       "      <td>369.7487</td>\n",
       "      <td>180.2012</td>\n",
       "    </tr>\n",
       "    <tr>\n",
       "      <th>781</th>\n",
       "      <td>26.216167</td>\n",
       "      <td>369.77448</td>\n",
       "      <td>180.47588</td>\n",
       "    </tr>\n",
       "  </tbody>\n",
       "</table>\n",
       "<p>773 rows × 3 columns</p>\n",
       "</div>"
      ],
      "text/plain": [
       "          time          x          y\n",
       "0     0.033525  374.52914  173.87468\n",
       "1     0.067049  374.52386  173.75543\n",
       "2     0.100574   374.5077  173.41017\n",
       "3     0.134098   374.5167  173.39484\n",
       "4     0.167623   374.5006   173.4291\n",
       "..         ...        ...        ...\n",
       "777  26.082069  369.73523  180.27576\n",
       "778  26.115593   369.7756  180.25716\n",
       "779  26.149118  369.75735  180.20224\n",
       "780  26.182642   369.7487   180.2012\n",
       "781  26.216167  369.77448  180.47588\n",
       "\n",
       "[773 rows x 3 columns]"
      ]
     },
     "execution_count": 246,
     "metadata": {},
     "output_type": "execute_result"
    }
   ],
   "source": [
    "ndf"
   ]
  },
  {
   "cell_type": "code",
   "execution_count": 238,
   "metadata": {},
   "outputs": [],
   "source": [
    "# imports\n",
    "import pandas as pd\n",
    "import numpy as np\n",
    "import matplotlib.pyplot as plt\n",
    "from datetime import timedelta\n",
    "from hhpy.plotting import animplot\n",
    "\n",
    "%matplotlib inline"
   ]
  },
  {
   "cell_type": "code",
   "execution_count": 247,
   "metadata": {},
   "outputs": [
    {
     "data": {
      "text/plain": [
       "pandas.core.series.Series"
      ]
     },
     "execution_count": 247,
     "metadata": {},
     "output_type": "execute_result"
    }
   ],
   "source": [
    "type(ndf['y'])"
   ]
  },
  {
   "cell_type": "code",
   "execution_count": 248,
   "metadata": {},
   "outputs": [],
   "source": [
    "ndf = ndf.apply(pd.to_numeric, errors='coerce')"
   ]
  },
  {
   "cell_type": "code",
   "execution_count": 249,
   "metadata": {},
   "outputs": [
    {
     "data": {
      "text/plain": [
       "pandas.core.series.Series"
      ]
     },
     "execution_count": 249,
     "metadata": {},
     "output_type": "execute_result"
    }
   ],
   "source": [
    "type(ndf['y'])"
   ]
  },
  {
   "cell_type": "code",
   "execution_count": 269,
   "metadata": {},
   "outputs": [],
   "source": [
    "ndf['time'] = pd.to_datetime(ndf['time'])"
   ]
  },
  {
   "cell_type": "code",
   "execution_count": 270,
   "metadata": {},
   "outputs": [
    {
     "data": {
      "text/plain": [
       "0     1970-01-01 00:00:00.000000000\n",
       "1     1970-01-01 00:00:00.000000000\n",
       "2     1970-01-01 00:00:00.000000000\n",
       "3     1970-01-01 00:00:00.000000000\n",
       "4     1970-01-01 00:00:00.000000000\n",
       "                   ...             \n",
       "777   1970-01-01 00:00:00.000000026\n",
       "778   1970-01-01 00:00:00.000000026\n",
       "779   1970-01-01 00:00:00.000000026\n",
       "780   1970-01-01 00:00:00.000000026\n",
       "781   1970-01-01 00:00:00.000000026\n",
       "Name: time, Length: 773, dtype: datetime64[ns]"
      ]
     },
     "execution_count": 270,
     "metadata": {},
     "output_type": "execute_result"
    }
   ],
   "source": [
    "#v = pd.to_timedelta(ndf['time'],unit='s')\n",
    "ndf['time']"
   ]
  },
  {
   "cell_type": "code",
   "execution_count": 272,
   "metadata": {},
   "outputs": [
    {
     "data": {
      "text/html": [
       "<video width=\"432\" height=\"288\" controls autoplay loop>\n",
       "  <source type=\"video/mp4\" src=\"data:video/mp4;base64,AAAAHGZ0eXBNNFYgAAACAGlzb21pc28yYXZjMQAAAAhmcmVlAAAeZ21kYXQAAAKtBgX//6ncRem9\n",
       "5tlIt5Ys2CDZI+7veDI2NCAtIGNvcmUgMTUyIHIyODU0IGU5YTU5MDMgLSBILjI2NC9NUEVHLTQg\n",
       "QVZDIGNvZGVjIC0gQ29weWxlZnQgMjAwMy0yMDE3IC0gaHR0cDovL3d3dy52aWRlb2xhbi5vcmcv\n",
       "eDI2NC5odG1sIC0gb3B0aW9uczogY2FiYWM9MSByZWY9MyBkZWJsb2NrPTE6MDowIGFuYWx5c2U9\n",
       "MHgzOjB4MTEzIG1lPWhleCBzdWJtZT03IHBzeT0xIHBzeV9yZD0xLjAwOjAuMDAgbWl4ZWRfcmVm\n",
       "PTEgbWVfcmFuZ2U9MTYgY2hyb21hX21lPTEgdHJlbGxpcz0xIDh4OGRjdD0xIGNxbT0wIGRlYWR6\n",
       "b25lPTIxLDExIGZhc3RfcHNraXA9MSBjaHJvbWFfcXBfb2Zmc2V0PS0yIHRocmVhZHM9OSBsb29r\n",
       "YWhlYWRfdGhyZWFkcz0xIHNsaWNlZF90aHJlYWRzPTAgbnI9MCBkZWNpbWF0ZT0xIGludGVybGFj\n",
       "ZWQ9MCBibHVyYXlfY29tcGF0PTAgY29uc3RyYWluZWRfaW50cmE9MCBiZnJhbWVzPTMgYl9weXJh\n",
       "bWlkPTIgYl9hZGFwdD0xIGJfYmlhcz0wIGRpcmVjdD0xIHdlaWdodGI9MSBvcGVuX2dvcD0wIHdl\n",
       "aWdodHA9MiBrZXlpbnQ9MjUwIGtleWludF9taW49NSBzY2VuZWN1dD00MCBpbnRyYV9yZWZyZXNo\n",
       "PTAgcmNfbG9va2FoZWFkPTQwIHJjPWNyZiBtYnRyZWU9MSBjcmY9MjMuMCBxY29tcD0wLjYwIHFw\n",
       "bWluPTAgcXBtYXg9NjkgcXBzdGVwPTQgaXBfcmF0aW89MS40MCBhcT0xOjEuMDAAgAAAC49liIQA\n",
       "E//+97GPgU3IAA2XOop6H+EVsfSQUXqx2aBk6gAAAwAAinQ/glx9QEI/cYyar4dksjVXDdjB7YwQ\n",
       "eLZiA/SV8NsbS2ChanQ+bX/5hyQVCOSfnjUFdNfqTiUkJzbYGv9tNOGWBHHXcha2JfKgKgOeXt0N\n",
       "EsOpRpZ5s3B8BgRS5mgUikYsjUEkfYjcYKR1z5x5L6EvDtiexwCjG5+s8j4mI4F/CH3wlEZMcg92\n",
       "15skdgQ9HwVxlLuXtBeJ7Jma89Gjnf1+tGPWFQp6if8rOXA72G4SmGvh/5lseD0T5GvtxgeqsOl5\n",
       "jp2MzZWKtvsqDRDXPCuskYcnZ6EymBHwJCSEk5VcGBJ76GyoYrHLWKhqoC+dEpg7DUjSymU9+xMr\n",
       "ZAE97v52VoAYx+eU2tXoE2vwQD04CYLmHvyzAWfdv/DRYrJrYdDy0I+3QB+73JHvX4mFmWRbwEnT\n",
       "f3X/GfAgEaKwDrP3h6BZTvoFW47VBgNohdIaanq8qJryHPVxX22+z0nmRfrlput4St3iQCfkmjFS\n",
       "BH9TwCri7hTTnlnf30vdr627cleFgpwzH6T6SUyKj/k6RRIFo1bRrnzhb76jIBx0YpYgcllIPyw+\n",
       "1MGduBaqZ8TQHrWwEIGhUcl82eVMVkORqXNoY/JwSwGgWYLDT0kJTd4Yaa8EQ4ebH0mdy/IADmVI\n",
       "KGBmgVKPOuzSJEQVoGHphIZWs5BKwg0PgEj8Vv/18KNUhG7YetxZvUf8Tmke4G01LUbs+oy/mdHX\n",
       "Sm8yz0bUWeD9OB1544cywMNBScRkAqtSCQEAA55RsEKThoNNCwUWJv5qKErDPlKk/ZkOYkqY4peB\n",
       "T+6Cgwg30EpeBL69Y/dGBc5O2aQNkgE9UdRq4cyCgYxCrtdgmBeMl7iFJO/0+iR01D6fy2QE8ucr\n",
       "CM4YoQxPIRhR3D9OkHWytc0QQEOyN3ueM5r8LdxO2lT7/z6k/FPPH56BovWtVCmKDO1AwABQRntZ\n",
       "uR8qqSgGKrfFyTTVq4FMegpTGu4q5xVnFZ5/1z9zgVh7OY2f6fj/9AS71D20XyNf5ZNPhzSu810w\n",
       "ingM7j1kjWYRd+pBLkLc4Qq2a9pCMGo0DwiyMlTfY5B6I2GC/B+4HXUUUc3H7E9zjlyL5IsSSd/t\n",
       "3PG+008XDYtYkoUz/JdQO9zJOmjACKj0jikjf8nNhA+q3h+TcfixZYQPgFuMB/eo0c1SYB/wbR4Q\n",
       "GUQF7akwzpPrFIbeVUE309oWilJsuOply5+ADI2viNUjwohPhOfBOA4AwYhWQvQ9t58IAH7+wQ3d\n",
       "PIJima0op9leZ/HhTXKhcOJoe/s+BU8XpI1UTb1eG70ZsZp0o6Jb3AKE2oYiZ4GRjVGgrcn01WQS\n",
       "LanVTOWp/t/xqo7//TTc4PfoLlyKVjeFBhFMLLk3u6zF+qNIaRLOrFs9uNJj0MBB1FVFKe4uE2uL\n",
       "V5nmPmBGY7MonpKh2yFE6INX9KptXKD4vAWp1MGaN27NtwjJMrMVbvSlZuElZgcmDyRiTeYhUEyC\n",
       "yr8XsS0aGMNl0brORnOSqPK2AC5vvAFFFxHcPFshQHC3QhF/d4dL2EfI5NJGUbG13UtYfcbiiVIj\n",
       "ghKczzzl80l19d301KCboGPUbV2KL2HvPrzpuKeMrC219Bxc4DVz3pmdVZ0eXGiWD3qg37GjHtQi\n",
       "YEnuyvlaVmsIdk6nNC4FHucGte5ctbmt4KDkNd56DHZbVlngcVSDPGrBz0RR6xu/qz6fXblUcWbM\n",
       "JN1zo1bbTF0VWRgOQ9vuyRVWV8FQIusCjkGr3CG4ECtd3+piHMF++exYTtinCtXvuB43TLPhdeuV\n",
       "Xnyi/6JfsQNCKfCTBMp8KibH38bTvmGPpx6//fwD/NAz/beDnC0ajM6t5jDIoNW0cGzGfmL7I5ZI\n",
       "0sUqYaCQgEIMxW0kF3CtNMN6gh7SGmDYLoLjXUIGj09jJFZ4VBq74/jUZctCgJqb+JUepT7/OWC7\n",
       "wWQVzJe6T6hG6GlJ+7FFE6TUp+b1WPYCsOYkFzuAANls3h9pE+WnMXsM62+YSMTj4ahaZ0RqDTYc\n",
       "+sEew+xr4wqdQuh29DTJ/FnDb4w1RNWSyQVksShnpxZ3n8xkvFN4fS99SZfln9w5mcEaTCzJMosY\n",
       "u3vef7wGYT7MOMM3ZMjDRAHud4+rZhe2M/azz6YSy9lwXcH2rfXrEhw8ZyYk3CEIL3OlROGiWmrJ\n",
       "iPww64APIzTc1BlF4DS61nELrtbGGUgqLZk/nZ7SxgrjlGtVF+ioiOGWCdkd/6z/5W3UJcsiK0Jo\n",
       "+E08sbopp6w+zYhyVPN0FbOG3xYCn1vR9bZzgxCWrEXeK3Y+MrBYYAocCX9Zt4Tom6Cr0Zh/gnmh\n",
       "BxgZgJhKlKwEp50F5XpN8oOMVeLwWmFlNbTLzoDyI4RUPPrZTgrpADjJVfcnwrnOJPm7lsNxYWNH\n",
       "rMw9B/aYuJDeRFXIGWjmHLwnuIBLw8iCct5AMp6wuew8D6+ywBQ0HeAnJbTZCSi3/w1Nm6SCZjOe\n",
       "+9zXkx1ZrZEPL+4zCvdj8qsCTnCRBW5GNH4TMabeibnOgK1iPJpX5unQ+filR9s7dUs6bSagJA+R\n",
       "RglX2f/9157keXcxW0EgLAAKv/tvpbCi5ijaiBGso+rBPd1rmuCx5wevBL/HPMJSY6nK4qZwqYoX\n",
       "Cpbp/gJkgcltnQWVf8vJOBxhA4iQWyLLe0PDWsVMiEH3ZslT9DSC26jdBVjpmfb7HlSQ1s/CAnuv\n",
       "RYeryP+MgMx584RxY+XZlXiQEIJ1opdjjMWjQVPcbJXzyIc7aYn5YLMP66sSlY4RZIa0TgjxYyng\n",
       "M5XGd04ezWczVfaasxZOgqfCv/84Geh+VmKqutL2CIKEMqasfU2kbJ5iLIipd4kJtU2+fZpeDZFL\n",
       "bRw98xEHICDGeTHzwm+VY1eCnbWWvkiD41tdvErqKMrlLhGx6R6xxuL9MvW7dx7wiFAFYfKTHRHG\n",
       "8iCjXNolpXxHpd70wjlQshAJqxNUVV5Z+9R+dztiEt5f8sTQqvhK1Df2KzSAX/h1xhK0cJBMEc+D\n",
       "5TwFmmcA1WIzKAcLj+9D8aM9bY73rHnaj4Mp4vPC3U8XlPDKJN10ZbO96EwF6pyqu1VmKBY21c1E\n",
       "i6CeDRIv/hz5JNl+TChimLMzfjS2BifCnXavALIz0XKO8XiIQuUi9Tvlq8arvUYOxzOTWuxZt3Ai\n",
       "PT/9SAtEwpRSXru8UB+26cRzbZUN8lSNWyqOQU9O22YvpHtwRPYwcgQQ9/+a3SVyf+hpH0vUcR96\n",
       "xApz/H04uecxpgvGnuZxAO73OLXbp28tzC9SNmdXb7qsiLjIJX/qgVT8lvcbFBJ5hUQhu1ftDZhd\n",
       "co47wVeDmCDLq17HmkiOjXhP2l96J+Ys5fP+fGEKI8do8dOrf69VNoYrDsUP2XvT8JjA0DqKlppc\n",
       "5QR3M16UQWJ89tpRqHZvcZk87WKr+Ey+yX8IywTy39zNyXuhtbhOhuzVN5KtrT/BiYUmUZ3SMB0N\n",
       "XBfy/TMLQBSBYbkOxqKYo760h5Nl1ynJEVlkl2kTuvjqN3l5ZFGzsQIsUaBqhh2tfB/Mrdh9Kfr/\n",
       "7trOB70c9tDA/dGIyD3b8K6jNF4Nt3aGEt0WsUReb2K0C/emO5TwdyQm5fDSEVfRajC5v76EgY84\n",
       "r6PjMM4kMW15/kBebWKEYbRWSKmIFv6+w1c5b1MMYr7uvnAjbEwnBc7W2yY0YDJ5WQmvs3t/CR3V\n",
       "3epiqvleg8GuG6UTk9VZ7iiHD5p87KUyIu/u8MU/lW+vj1b9gohn5grIQbxZfXz7VG+FeoXP3GLe\n",
       "HtlIGoQmV//L42RtYodmUsxpbQN4qdqBls0B49d9TX6gdE/OURnEoQy+B+MOxuDmY5Gs+q7eglcN\n",
       "hH+Ehh0P7bY6poZBUlZKE/MpLZf3IZYb4wM0wRW3a4XK+Uw+7VxILgAQ8u5QAATFAAACg0GaJGxB\n",
       "P/61KoMblKVDJE8AIxcd4K4pTUnSggNJXEtPcxdiH2osCbR4dkYkvUZy+x1onCs4H39fCO0mdP3H\n",
       "EKIVVT4YXUulIrhu2GCK9sCBO40MJYchVGxXou+MWYOFQxH3h+YxEXek4czPfy+BZgbeoKL3FN2s\n",
       "vSJzjC5py59sdfkINYfwnX7K1PWaa5F8w0V05AjbQiUb6szMv62xyYVpyRHIDkVkKU2Iw++to6A7\n",
       "xaDpWrJaHVILnVaW+7ouP9E5h7pLbcgL0l+BAN3Tw2Z8ZvQ0RwAwWztjvaeOsrBSYZmVwdt1jxaN\n",
       "Z1WO2c5VzHLlGGVmMhHjYO9/mZqwhVuI2LyFqyAJLHtVQTKMAMLrUASsFf2s1XcHCCsF5DJMDuBb\n",
       "FEpMGNqN89RjtSeRCAe8aF1yRdp2Tsu/A05Udpz0w93MnaHqbuOO18vbSnXfhl4pmC4wC+6kH81k\n",
       "tkIDC76/H/u10gTHtQzUcG/WmZS6bkj/hnTdYgLocS06TSGDP/dfylPUL6mJijhKwAq8aSKm9KZJ\n",
       "4uFx1y5xCLy7QijQIb+ytSKerI2kh060JbIKyPwMlfD9+tCgcVHKv2E88Dwrd+3SiBD/jXJGWI1k\n",
       "pse68cfF1rD+ITcYGJuDUACt6ddgUNW3hFnV+cmE/yCJLZ91VlldQVGQlHLurt15DDlTtawPeemC\n",
       "Nx0QcchzbHxj7ObbsFtwrlww9NttYXOQCBFpUDprMbOAlvTXD7evRlsPNm3MiRGgjzf/sQyBTmNV\n",
       "Df00ksvuqvvo4lN3q4Q+YT43SI3UnpDOwZU0/ORAd4zBLf/N2nsL9If9kB3B2fMiZqsRo2VdOpOz\n",
       "46QogFOiTweeH+AAAADRQZ5CeIIfAHufGICDI2CZd5UJmwc+xUMbOjK6dAmgBLR56DcU09l35Zb7\n",
       "la9FuxfCj9aslOclG9tBeuwJ1IuXd3Kg4G9oC1ZUOxY78zk3FhsDnefAISswEOG93sQWFEDnmLfH\n",
       "oIt4IdaCAM+dp1Bx98pqPZzZOoOBNjdhsTNNxDG8Gh2fjd/401DBwp1uxR44VRhhswi31f2GiqEF\n",
       "gI4bRRcif8pV0YDE99EWBDC9wF0lRuBTWhID9EtnYUUzMomwWcXMXfjf5Iq0C35MPt6BTpkAAACD\n",
       "AZ5hdEP/APYUsdw7OCiAkO6JQfNN/tH58tT4AWx81thayPoOhp06br26cLoQx7MDozWs2/QoIcqu\n",
       "EhbyUEZt7JxEonaqTmXAjWXcw1GMi79vcSJA4b2ZKIObHPaqtAgQM7EP8eXN0I6n7YZEuxX+JjGA\n",
       "ZCz9sFvkfBEkDc0MPq9V1JwAAACVAZ5jakP/AAA1iC3Mx31XFfdEAH9IWuk9dJ3knJmnMyFGgFDJ\n",
       "B4AhKT606lW35OHffzs16Bx0YtHlL+aB4ztDmxdKgUnlTvSKdW5+VYwqAiBhhb062i0RR7uluH1+\n",
       "MVgdrGKFsenBje6CtlAv+QgE8VplOCGe91CCYP4c7j8Hm9JBxH6TvV2IKpXm0aPp5fTnMPz8Lt8A\n",
       "AADVQZpnSahBaJlMCCf//rUqgAAThCTlCdPRyF6gBEKleNqO42+zy2vOJ2x1spPL20hbYDb+hGR/\n",
       "h0J/WcBpVNfkeIrAEnAsJ9QSE8/cO2w2VU8M1aDT/qwnkLu9GsfAs3Qy0nogqOkaLhu09CkWhmKC\n",
       "A7Lcyl1pAnFFXYUw7MgsWgZLNEwBxZV05HJtCAJgGX/FS4dENgKZCVYXEpYY5VHXg8Gw51D+CgKd\n",
       "9ZxhNEX9p8gtS5aUqgdEAjCfnqngIf/fmvJ01Ae3cNa/Zt8l0fMCdjLOgKuJAAAAXEGehUURLBD/\n",
       "AAAYfT45uACWrzkRQYbnCpAN4WZhYxKke5XH/XCZGmW4AXxnODNVehabMIu+kgcnxr16hp1vRxmq\n",
       "1Fl+f6d/3i+5VPdgHWcGF1j6i9UI71O/LOiBAAAAUwGepmpD/wAANf5FBAC6ram/Mfq2bKIHPqG/\n",
       "ZriiPJXg2qH0j1CjwGdwJW5z+f2Z4N7GsUkC0QQ+H57cmceTNYKO23L9UOQPy74BuLy/I8L1Ws+P\n",
       "AAAAg0Gaq0moQWyZTAgn//61KoAAE5Cs5sBtCUKABmra/8nUcI7TWaIXWyBSq0svZM1eEQUc5pjv\n",
       "+2aDjOxH8hNW8v8R/GDPYKvkLk+s2ju5Rli/jFH1GKRlHn2TXzT2eezGrR/pHbXcuuGPNeg1rw+a\n",
       "tLglCRcJcESPZHCNKM/NmR8hIoGgAAAArEGeyUUVLBD/AAAZEBRwg6LwAXJ1LG04ENQni8Fzgs48\n",
       "Sflf1aT2po9VgqsXm5nzR5+15Q2wjN11amVy3cEss1DP2NrTKO97FRhUZQtmt4u0DJAy6146oYOB\n",
       "lLmNixWGTIEbSDAA8MQfTU5v89kIOb/XHtTxBIqUy4N1GUGwPNImPBK10rv28uCUkMY0sG6JruUJ\n",
       "d0QDY2h7l378SB9r3wxCiX7/DytNWy8wPYAAAACLAZ7odEP/AAA3N1YYAW0iEru0u110s7I/8C2C\n",
       "7WXrgg3A/v76QUJhcIaixGUcMl+AWIQzlIxBsQUX6Bbx8LkGqL3tyMzVxo3Qq1rfNT2MfU72/rPV\n",
       "aJSqYTMTbktMt4+cNAz/91e+fFgAtFk9PRPQZDzxSkoUl1Hh7xs8PNZCj6yk+r/0PUA68DwGLQAA\n",
       "AFEBnupqQ/8AADc5hry68Ll0AJowldh+kQVDJ2sNKLhuPLc/kj4ldkI3VGasYOMKPtxujca+Js4Y\n",
       "01f949ZINQyDgGqn4P/7axRRr/V31y3SYGAAAACMQZrvSahBbJlMCCf//rUqgAATn7UKnfszwI8K\n",
       "gAdFHTL1q+purc2obmm9Ep5w7oXSeODzMkb8vtEd4X32CfmD7zVLrEzg/CCyykapy2F1jr4OLurL\n",
       "IOqmPdo+vpxMXYmUa9ZMBDZ5jxhjSReaLo9UrNP8ND014X2yIked8pp/kUqyD7mKHevyB7GzWWAA\n",
       "AAEVQZ8NRRUsEP8AABjmP6mBfF13sAJ2+cX3GPUWJHKlYTTz2E7ssPEClbxp716WOPCSbaQMTTVe\n",
       "0I84+NTiduorVFFr9VUjyTg565JhrBR3FD7hjJwqeGeBoqLkGVC+qK9XFmibvNR3QL5TkeQY909Q\n",
       "BXyzy0kEE6Zzh07shwEIZTfj9I7lx/Apm5EedZ+TFm5S4KjutkRpmJ6NZmZhF1N8FPTXILOB1jtQ\n",
       "U9E00LUtj1vTWgrzpT9iyO3IdxzAnCp7KnbW5XGVkSj0H72mmFQ7AdpJKfA3+JN5QfWJdhaMKQ7p\n",
       "6gpyTEDIpZS7SNo7jG9CU1E19nlK8Xtel9LwO8YkYeg8vMaNiXWschbYpah0f/z08YSRgQAAAGsB\n",
       "nyx0Q/8AADaZKqjG3JDogBNKgXYpC9TPqLzI2pTzTKZUhgU5PkGK8dIBfRwVLbFcQb4mkUMY4l7z\n",
       "OiouirujWqK24rGBitnr9+5KWY9fakOysza2V/R4uQnyE4cqfACqLoJP+cXwM/2cBwAAAFQBny5q\n",
       "Q/8AADc5nLC9DhcCxj3tqACBuqY8MDOLcafioBxed9kZ2k2HZA4rsgdDimIEd3eUlQ/5o69qqkVD\n",
       "nDGgG9xbPYp9L++8b7I7D+sba1/Mw+EAAABLQZsxSahBbJlMFEwT//61KoAAEwQWhj1iJ+AAs7ni\n",
       "HZKQJR5WCkYBFI4T8AbJXeXXs8DFrOsszkqzW0T2f7IVSxzaNYazztHbfXdbAAAAHgGfUGpD/wAA\n",
       "Nf45Lr0ADag4coElev92/992O++2sAAAAH9Bm1VJ4QpSZTAgl//+tSqAABOSzjdydIgA4SSrTX24\n",
       "FEGB3sjSIqLAOk/l5qLuli9bUG7D/aP11LgnjtDMH29vzUadZDIo9dETneEdawAzNgadnkd/njS/\n",
       "nzPp+Vg/cvdHdZe7CKtNwLj1NWGpNffS60gxIp8WfgxCEondBSNBAAAAdEGfc0U0TBD/AAAYeapV\n",
       "d4ABbLK8ZYAv2CoDEkkrdYwY/9mzRNNW3JaixQx6AtnYBKFgvvU6MNHgVu8Cq3+4J4UZznqDPMC9\n",
       "r3nFVzy1pn0oJwdp7KvaX67RkWFab8ZCDqw/iqjE9AiTsW1yByv34vwf+hM0AAAA6AGfknRD/wAA\n",
       "aZCQcxbfJlZ6lf2OGVASZ1XBG/in6pD6nc7Mfg9/JeTvxyk52QOcu1A2IHgnm9S/1qyjh0pODrb4\n",
       "oJ/jQBPhul1pMduU4Xv+dolr2DvvSOUW4ZaKKxhTCJ1NsKPgSR+FqRyCdFGefqs133fIuu6tQuMF\n",
       "VrTWEP3+y4m4Cb5byPKoQp97565mhRotftmuPzdA5BslBvigYsoBmjaBBGtTBe+SBKgQgKNVEVui\n",
       "l5UMsLwGZi19UjbLY9lQ/VTWhCEGpKREPrZ3ROG+n1x/SiBDj5/dHbckC3Izwwmv1ic5AMAAAACJ\n",
       "AZ+UakP/AAA1X+LSHkVIASyp3afpQ6P0K7XVKrrOi8Jv6zexk+WpdJhGwN5jKvdblqtFVxL6tW0G\n",
       "5rlvSwnDBwvWb6v++PuApAk54O34mkxNuRs2TgHyrnMBrKcfli8GAEA14qXGiHeIjCIG0e4Ibb2z\n",
       "mXjH/bTvhjmxanoXJ+lwfsd4hy+XhIEAAADkQZuXSahBaJlMFPBL//61KoAAE4byCACWrtJHrpBp\n",
       "K9ESak0i9bzz3hS/HbKIxQNSwzhSH9kZwZGdtZgqY/j/QcfbdTCtM1yVbjIi1NMhwOLVSc+drYYj\n",
       "hrmY95jYucHot0vCsFMWFIp2SrdEzH616puiMBGiexyQz6hWF5kNa+rrTyl4NlzNqpcComJl137e\n",
       "T3kgIiNvU9nLHyZkDunuPHtx+FkLsa0kQDaB5O4rMSMkk2ZGLuu+KxMIY+mAIJacZaAwKyLYF5+g\n",
       "12fSygMb/b6F9d+HWEAviGBMoEYonKWomJGUAAAATwGftmpD/wAANf87TCAHBDcJVaDqJKZ2LZx0\n",
       "ZeTsbeuCWGBqevpCa8oDLdSe/62QP40zunXHnzfGzvT0MA19XKVToAtHBwbH90/68mD701kAAABd\n",
       "QZu5SeEKUmUwUsEP/qpVAAAnFzQtXyUAHdHHG5RLNDbxdzTNZ4Qwl1IiKFbVSDM3Tk3Fb12Ee0Y4\n",
       "RnptGCKHji4fvSM7x3gTxUyAC6tWh5IkYoh+TjdHMb2h5H/BAAAAqgGf2GpD/wAANfOXEYUSaAC0\n",
       "moYpEyIGlhXh4Ci1pBJobmlDSncdEfq1hrv+oyZ7kdc9dBd2dK2hcXKXaiYuN8F3sjF0leysNEbq\n",
       "/71s9jIx6sgFzR6/eRpCL14zUuD2YyqlIiqxaeS68NMHWgFALjgD/CAzy0gEApJIcU2lZVZC/FZW\n",
       "N5OUgnVDc19kkxgLYmRJH566aZH7quRAlegDaeV0f4JfftjV0FdAAAAAUUGb2knhDomUwIf//qmW\n",
       "AACYMtIp6AC5RxH4BOaQWcnk3ub+s4A1J+SzwChT3rM0St+EWGWvx4OKnSvpuMcXrdFIiOYNr6dM\n",
       "n5sFGpkK3DuZGwAABGptb292AAAAbG12aGQAAAAAAAAAAAAAAAAAAAPoAAAVGAABAAABAAAAAAAA\n",
       "AAAAAAAAAQAAAAAAAAAAAAAAAAAAAAEAAAAAAAAAAAAAAAAAAEAAAAAAAAAAAAAAAAAAAAAAAAAA\n",
       "AAAAAAAAAAAAAAACAAADlHRyYWsAAABcdGtoZAAAAAMAAAAAAAAAAAAAAAEAAAAAAAAVGAAAAAAA\n",
       "AAAAAAAAAAAAAAAAAQAAAAAAAAAAAAAAAAAAAAEAAAAAAAAAAAAAAAAAAEAAAAABsAAAASAAAAAA\n",
       "ACRlZHRzAAAAHGVsc3QAAAAAAAAAAQAAFRgAABAAAAEAAAAAAwxtZGlhAAAAIG1kaGQAAAAAAAAA\n",
       "AAAAAAAAACgAAADYAFXEAAAAAAAtaGRscgAAAAAAAAAAdmlkZQAAAAAAAAAAAAAAAFZpZGVvSGFu\n",
       "ZGxlcgAAAAK3bWluZgAAABR2bWhkAAAAAQAAAAAAAAAAAAAAJGRpbmYAAAAcZHJlZgAAAAAAAAAB\n",
       "AAAADHVybCAAAAABAAACd3N0YmwAAACzc3RzZAAAAAAAAAABAAAAo2F2YzEAAAAAAAAAAQAAAAAA\n",
       "AAAAAAAAAAAAAAABsAEgAEgAAABIAAAAAAAAAAEAAAAAAAAAAAAAAAAAAAAAAAAAAAAAAAAAAAAA\n",
       "AAAAAAAY//8AAAAxYXZjQwFkABX/4QAYZ2QAFazZQbCWhAAAAwAEAAADACg8WLZYAQAGaOvjyyLA\n",
       "AAAAHHV1aWRraEDyXyRPxbo5pRvPAyPzAAAAAAAAABhzdHRzAAAAAAAAAAEAAAAbAAAIAAAAABRz\n",
       "dHNzAAAAAAAAAAEAAAABAAAA4GN0dHMAAAAAAAAAGgAAAAEAABAAAAAAAQAAKAAAAAABAAAQAAAA\n",
       "AAEAAAAAAAAAAQAACAAAAAABAAAgAAAAAAIAAAgAAAAAAQAAKAAAAAABAAAQAAAAAAEAAAAAAAAA\n",
       "AQAACAAAAAABAAAoAAAAAAEAABAAAAAAAQAAAAAAAAABAAAIAAAAAAEAABgAAAAAAQAACAAAAAAB\n",
       "AAAoAAAAAAEAABAAAAAAAQAAAAAAAAABAAAIAAAAAAEAABgAAAAAAQAACAAAAAABAAAYAAAAAAEA\n",
       "AAgAAAAAAQAAEAAAAAAcc3RzYwAAAAAAAAABAAAAAQAAABsAAAABAAAAgHN0c3oAAAAAAAAAAAAA\n",
       "ABsAAA5EAAAChwAAANUAAACHAAAAmQAAANkAAABgAAAAVwAAAIcAAACwAAAAjwAAAFUAAACQAAAB\n",
       "GQAAAG8AAABYAAAATwAAACIAAACDAAAAeAAAAOwAAACNAAAA6AAAAFMAAABhAAAArgAAAFUAAAAU\n",
       "c3RjbwAAAAAAAAABAAAALAAAAGJ1ZHRhAAAAWm1ldGEAAAAAAAAAIWhkbHIAAAAAAAAAAG1kaXJh\n",
       "cHBsAAAAAAAAAAAAAAAALWlsc3QAAAAlqXRvbwAAAB1kYXRhAAAAAQAAAABMYXZmNTcuODMuMTAw\n",
       "\">\n",
       "  Your browser does not support the video tag.\n",
       "</video>"
      ],
      "text/plain": [
       "<IPython.core.display.HTML object>"
      ]
     },
     "execution_count": 272,
     "metadata": {},
     "output_type": "execute_result"
    }
   ],
   "source": [
    "animplot(data=ndf, x='x', y='y', t='time',xlim=(0, 500), ylim=(0, 500),  t_format='%f', ls='None', marker='o', markerfacecolor='None', markeredgecolor='red', mode='html')"
   ]
  },
  {
   "cell_type": "code",
   "execution_count": null,
   "metadata": {},
   "outputs": [],
   "source": []
  },
  {
   "cell_type": "code",
   "execution_count": null,
   "metadata": {},
   "outputs": [],
   "source": []
  }
 ],
 "metadata": {
  "kernelspec": {
   "display_name": "Python 3",
   "language": "python",
   "name": "python3"
  },
  "language_info": {
   "codemirror_mode": {
    "name": "ipython",
    "version": 3
   },
   "file_extension": ".py",
   "mimetype": "text/x-python",
   "name": "python",
   "nbconvert_exporter": "python",
   "pygments_lexer": "ipython3",
   "version": "3.6.5"
  }
 },
 "nbformat": 4,
 "nbformat_minor": 2
}
